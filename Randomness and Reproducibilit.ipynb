{
 "cells": [
  {
   "cell_type": "code",
   "execution_count": 1,
   "id": "03269c51",
   "metadata": {},
   "outputs": [],
   "source": [
    "import random\n",
    "import numpy as np"
   ]
  },
  {
   "cell_type": "code",
   "execution_count": 2,
   "id": "03d22e67",
   "metadata": {},
   "outputs": [],
   "source": [
    "mu = 0\n",
    "    \n",
    "sigma = 1\n",
    "\n",
    "Population = [random.normalvariate(mu, sigma) for _ in range(10000)]"
   ]
  },
  {
   "cell_type": "code",
   "execution_count": 3,
   "id": "556746e4",
   "metadata": {},
   "outputs": [],
   "source": [
    "SampleA = random.sample(Population, 500)\n",
    "SampleB = random.sample(Population, 500)"
   ]
  },
  {
   "cell_type": "code",
   "execution_count": 4,
   "id": "f1160a7f",
   "metadata": {},
   "outputs": [
    {
     "data": {
      "text/plain": [
       "-0.07609449904000604"
      ]
     },
     "execution_count": 4,
     "metadata": {},
     "output_type": "execute_result"
    }
   ],
   "source": [
    "np.mean(SampleA)"
   ]
  },
  {
   "cell_type": "code",
   "execution_count": 5,
   "id": "52d0a30b",
   "metadata": {},
   "outputs": [
    {
     "data": {
      "text/plain": [
       "-0.014247132660156031"
      ]
     },
     "execution_count": 5,
     "metadata": {},
     "output_type": "execute_result"
    }
   ],
   "source": [
    "np.mean(SampleB)"
   ]
  },
  {
   "cell_type": "code",
   "execution_count": 6,
   "id": "57b43773",
   "metadata": {},
   "outputs": [
    {
     "data": {
      "text/plain": [
       "0.9850161340715216"
      ]
     },
     "execution_count": 6,
     "metadata": {},
     "output_type": "execute_result"
    }
   ],
   "source": [
    "np.std(SampleA)"
   ]
  },
  {
   "cell_type": "code",
   "execution_count": 7,
   "id": "c8135181",
   "metadata": {},
   "outputs": [
    {
     "data": {
      "text/plain": [
       "1.0217230905632169"
      ]
     },
     "execution_count": 7,
     "metadata": {},
     "output_type": "execute_result"
    }
   ],
   "source": [
    "np.std(SampleB)"
   ]
  },
  {
   "cell_type": "code",
   "execution_count": 8,
   "id": "7fadda10",
   "metadata": {},
   "outputs": [
    {
     "data": {
      "text/plain": [
       "-0.029616197882728"
      ]
     },
     "execution_count": 8,
     "metadata": {},
     "output_type": "execute_result"
    }
   ],
   "source": [
    "means = [np.mean(random.sample(Population, 1000)) for _ in range(100)]\n",
    "\n",
    "np.mean(means)"
   ]
  },
  {
   "cell_type": "code",
   "execution_count": 9,
   "id": "7528a548",
   "metadata": {},
   "outputs": [
    {
     "data": {
      "text/plain": [
       "1.0034587919084446"
      ]
     },
     "execution_count": 9,
     "metadata": {},
     "output_type": "execute_result"
    }
   ],
   "source": [
    "standarddevs = [np.std(random.sample(Population, 1000)) for _ in range(100)]\n",
    "np.mean(standarddevs)"
   ]
  },
  {
   "cell_type": "code",
   "execution_count": 10,
   "id": "da289e69",
   "metadata": {},
   "outputs": [
    {
     "ename": "SyntaxError",
     "evalue": "invalid syntax (641113580.py, line 1)",
     "output_type": "error",
     "traceback": [
      "\u001b[1;36m  Cell \u001b[1;32mIn[10], line 1\u001b[1;36m\u001b[0m\n\u001b[1;33m    Random Sampling from a Population\u001b[0m\n\u001b[1;37m           ^\u001b[0m\n\u001b[1;31mSyntaxError\u001b[0m\u001b[1;31m:\u001b[0m invalid syntax\n"
     ]
    }
   ],
   "source": [
    "Random Sampling from a Population\n",
    "From lecture, we know that Simple Random Sampling (SRS) has the following properties:\n",
    "\n",
    "Start with known list of N* population units, and randomly select *n units from the list\n",
    "Every unit has equal probability of selection = n/N\n",
    "All possible samples of size n are equaly likely\n",
    "Estimates of means, proportions, and totals based on SRS are UNBIASED (meaning they are equal to the population values on average)"
   ]
  },
  {
   "cell_type": "code",
   "execution_count": null,
   "id": "64f3db02",
   "metadata": {},
   "outputs": [],
   "source": []
  }
 ],
 "metadata": {
  "kernelspec": {
   "display_name": "Python 3 (ipykernel)",
   "language": "python",
   "name": "python3"
  },
  "language_info": {
   "codemirror_mode": {
    "name": "ipython",
    "version": 3
   },
   "file_extension": ".py",
   "mimetype": "text/x-python",
   "name": "python",
   "nbconvert_exporter": "python",
   "pygments_lexer": "ipython3",
   "version": "3.10.2"
  }
 },
 "nbformat": 4,
 "nbformat_minor": 5
}
